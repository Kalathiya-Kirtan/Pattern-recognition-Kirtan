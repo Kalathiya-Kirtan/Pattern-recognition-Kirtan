{
  "cells": [
    {
      "cell_type": "markdown",
      "id": "55e6b918-afac-43e8-b338-43f8ac64014f",
      "metadata": {
        "id": "55e6b918-afac-43e8-b338-43f8ac64014f"
      },
      "source": [
        "##  Deep Neural Networks Project"
      ]
    },
    {
      "cell_type": "markdown",
      "id": "1a8e066d-2849-4a6e-9c71-bb98d605ae07",
      "metadata": {
        "id": "1a8e066d-2849-4a6e-9c71-bb98d605ae07"
      },
      "source": [
        "In this project, you will be working with a real-world data set from the Las Vegas Metropolitan Police Department. The dataset  contains information about the reported incidents, including the time and location of the crime, type of incident, and number of persons involved."
      ]
    },
    {
      "cell_type": "markdown",
      "id": "9e87fac7-352a-4c39-b087-76254b5e2743",
      "metadata": {
        "id": "9e87fac7-352a-4c39-b087-76254b5e2743"
      },
      "source": [
        "The dataset is downloaded from the public docket at:\n",
        "https://opendata-lvmpd.hub.arcgis.com\n",
        "\n",
        "let's read the csv file and transform the data:"
      ]
    },
    {
      "cell_type": "code",
      "execution_count": 3,
      "id": "637211a4-582f-426b-a127-c3f284463f35",
      "metadata": {
        "id": "637211a4-582f-426b-a127-c3f284463f35"
      },
      "outputs": [],
      "source": [
        "import torch\n",
        "import pandas as pd\n",
        "from torch.utils.data import DataLoader, Dataset\n",
        "import matplotlib.pyplot as plt\n",
        "import seaborn as sns\n",
        "import numpy as np"
      ]
    },
    {
      "cell_type": "code",
      "execution_count": 4,
      "id": "bcf40b02-80b6-4abc-a662-f7ed50a65181",
      "metadata": {
        "id": "bcf40b02-80b6-4abc-a662-f7ed50a65181"
      },
      "outputs": [],
      "source": [
        "orig_df = pd.read_csv('LVMPD-Stats.csv', parse_dates=['ReportedOn'])"
      ]
    },
    {
      "cell_type": "code",
      "execution_count": 5,
      "id": "e1ca1d15-3955-4971-a3c4-c1a73b62edda",
      "metadata": {
        "id": "e1ca1d15-3955-4971-a3c4-c1a73b62edda"
      },
      "outputs": [],
      "source": [
        "df = pd.read_csv('LVMPD-Stats.csv', parse_dates=['ReportedOn'],\n",
        "                 usecols = ['X', 'Y', 'ReportedOn',\n",
        "                            'Area_Command','NIBRSOffenseCode',\n",
        "                            'VictimCount' ] )\n",
        "\n",
        "df['DayOfWeek'] = df['ReportedOn'].dt.day_name()\n",
        "df['Time' ]     = df['ReportedOn'].dt.hour\n",
        "df.drop(columns = 'ReportedOn', inplace=True)"
      ]
    },
    {
      "cell_type": "code",
      "execution_count": 6,
      "id": "3ddc413d-ba3f-4204-bc18-7fdd4de8d221",
      "metadata": {
        "id": "3ddc413d-ba3f-4204-bc18-7fdd4de8d221"
      },
      "outputs": [],
      "source": [
        "\n",
        "df['X'] = df['X']\n",
        "df['Y'] = df['Y']\n",
        "df['Time'] = pd.factorize(df['Time'])[0]\n",
        "df['DayOfWeek'] = pd.factorize(df['DayOfWeek'])[0]\n",
        "df.Area_Command = pd.factorize(df['Area_Command'])[0]\n",
        "df.VictimCount = pd.factorize(df['VictimCount'])[0]\n",
        "df.NIBRSOffenseCode = pd.factorize(df['NIBRSOffenseCode'])[0]\n",
        "df.dropna(inplace=True)"
      ]
    },
    {
      "cell_type": "code",
      "execution_count": 7,
      "id": "a9c6162f-9686-4195-818d-950a6368c686",
      "metadata": {
        "id": "a9c6162f-9686-4195-818d-950a6368c686"
      },
      "outputs": [],
      "source": [
        "df= df[['X', 'Y', 'Area_Command', 'NIBRSOffenseCode',\n",
        "       'DayOfWeek', 'Time','VictimCount']]"
      ]
    },
    {
      "cell_type": "code",
      "execution_count": 8,
      "id": "a90bc78a-6d1b-4fe4-a1b0-8333aec1c851",
      "metadata": {
        "colab": {
          "base_uri": "https://localhost:8080/"
        },
        "id": "a90bc78a-6d1b-4fe4-a1b0-8333aec1c851",
        "outputId": "1f4ffa29-bd37-42c2-9a8b-04c39974bc40"
      },
      "outputs": [
        {
          "output_type": "execute_result",
          "data": {
            "text/plain": [
              "(275, 7)"
            ]
          },
          "metadata": {},
          "execution_count": 8
        }
      ],
      "source": [
        "df.values.shape"
      ]
    },
    {
      "cell_type": "markdown",
      "id": "651605b1-8d2c-4d3e-a09e-9aef6e550fc6",
      "metadata": {
        "id": "651605b1-8d2c-4d3e-a09e-9aef6e550fc6"
      },
      "source": [
        "# Goal\n",
        "The goal is to build a predictive model that is trained on the following data:\n",
        "* latitude and longitude (location)\n",
        "* Hour of the day\n",
        "* Day of the week\n",
        "* Area-of-command code: The police designation of the bureau of the operation.\n",
        "* Classification code for the crime committed\n",
        "  \n",
        "The predicted variable is the number of persons involved in the accident.\n"
      ]
    },
    {
      "cell_type": "markdown",
      "id": "0e54f0b8-83f9-4db9-88f9-f5a595342069",
      "metadata": {
        "id": "0e54f0b8-83f9-4db9-88f9-f5a595342069"
      },
      "source": [
        "## Task 1\n",
        "* print a few rows of the values in the dataframe ``df`` and explain what each column of data means.\n",
        "* identify the input and target variables\n",
        "* what is the range of values in each column? Do you need to scale, shift or normalize your data?\n"
      ]
    },
    {
      "cell_type": "code",
      "source": [
        "print(df.head(5))\n",
        "\n",
        "\n",
        "\n",
        "min_latitude = min(df['X'])\n",
        "min_longitude = min(df['Y'])\n",
        "\n",
        "df['X'] = df['X'] - min_latitude\n",
        "df['Y'] = df['Y'] - min_longitude"
      ],
      "metadata": {
        "colab": {
          "base_uri": "https://localhost:8080/"
        },
        "id": "pXi6ICkiV4z1",
        "outputId": "03bc412d-0548-4d0c-df06-14509f7782b2"
      },
      "id": "pXi6ICkiV4z1",
      "execution_count": 9,
      "outputs": [
        {
          "output_type": "stream",
          "name": "stdout",
          "text": [
            "            X          Y  Area_Command  NIBRSOffenseCode  DayOfWeek  Time  \\\n",
            "0 -115.087518  36.216702             0                 0          0     0   \n",
            "1 -115.240172  36.189693             1                 1          1     1   \n",
            "2 -115.143088  36.181329             2                 1          2     0   \n",
            "3 -115.225014  36.117633             3                 1          1     2   \n",
            "4 -115.176708  36.095967             4                 1          1     3   \n",
            "\n",
            "   VictimCount  \n",
            "0            0  \n",
            "1            0  \n",
            "2            1  \n",
            "3            2  \n",
            "4            0  \n"
          ]
        }
      ]
    },
    {
      "cell_type": "markdown",
      "source": [
        "'X': Latitude of the location where the crime was reported.\n",
        "'Y': Longitude of the location where the crime was reported.\n",
        "'Area_Command': The police designation of the bureau of the operation.\n",
        "'NIBRSOffenseCode': The classification code for the crime committed.\n",
        "'DayOfWeek': A day of the week on which the crime was committed, represented as an integer from 0 to 6 (e.g., 0 for Sunday, 1 for Monday, and so on).\n",
        "'Time': The time when the crime was reported in terms of hours, represented as an integer from 0 to 23.\n",
        "'VictimCount': Total number of victims involved in the reported crime.\n"
      ],
      "metadata": {
        "id": "FbD0t6R0cIxR"
      },
      "id": "FbD0t6R0cIxR"
    },
    {
      "cell_type": "markdown",
      "source": [
        "Input Variables: These are the features used to predict the target variable. In this case, the input features are 'X', 'Y', 'Area_Command', 'NIBRSOffenseCode', 'DayOfWeek', and 'Time'.\n",
        "Target Variable: This is what you want to predict. In this case, the target variable is 'VictimCount'."
      ],
      "metadata": {
        "id": "eO0KRNZ6cSwu"
      },
      "id": "eO0KRNZ6cSwu"
    },
    {
      "cell_type": "markdown",
      "source": [
        "Based on the range of values, you can determine whether you need to scale, shift, or normalize your data. For example, if the ranges vary significantly among columns, it may be beneficial to standardize or normalize the data for better model performance."
      ],
      "metadata": {
        "id": "sOeYQfNycW8m"
      },
      "id": "sOeYQfNycW8m"
    },
    {
      "cell_type": "markdown",
      "id": "5549ecc9-3c0b-4efa-9a1f-340a25a1e4be",
      "metadata": {
        "id": "5549ecc9-3c0b-4efa-9a1f-340a25a1e4be"
      },
      "source": [
        "## Task 2\n",
        "\n",
        "* Create two `DataLoader` objects for training and testing based on the input and output variables. Pick a reasonable batch size and verify the shape of data by iterating over the one dataset and printing the shape of the batched data."
      ]
    },
    {
      "cell_type": "code",
      "execution_count": 10,
      "id": "00fe4287-934b-4799-9e43-c3571acfbab4",
      "metadata": {
        "colab": {
          "base_uri": "https://localhost:8080/"
        },
        "id": "00fe4287-934b-4799-9e43-c3571acfbab4",
        "outputId": "f6cc16bb-3e36-4695-e1cd-0a3ad1395949"
      },
      "outputs": [
        {
          "output_type": "stream",
          "name": "stdout",
          "text": [
            "Batch 0: X shape torch.Size([32, 6]), Y shape torch.Size([32])\n",
            "Sample from Batch 0: X[0] tensor([ 0.7917,  1.1390,  8.0000,  1.0000,  3.0000, 22.0000]), Y[0] 0.0\n",
            "Batch 1: X shape torch.Size([32, 6]), Y shape torch.Size([32])\n",
            "Sample from Batch 1: X[0] tensor([0.8690, 1.1059, 2.0000, 1.0000, 4.0000, 1.0000]), Y[0] 0.0\n"
          ]
        }
      ],
      "source": [
        "import torch\n",
        "from torch.utils.data import TensorDataset, DataLoader\n",
        "import numpy as np\n",
        "from sklearn.model_selection import train_test_split\n",
        "\n",
        "# Assuming you have already prepared your X and y tensors\n",
        "\n",
        "X = torch.tensor(df.drop('VictimCount', axis=1).values.astype(np.float32))\n",
        "y = torch.tensor(df['VictimCount'].values.astype(np.float32))\n",
        "\n",
        "X_train, X_test, y_train, y_test = train_test_split(X, y, test_size=0.3)\n",
        "\n",
        "# Define a custom Dataset class\n",
        "class CustomDataset(torch.utils.data.Dataset):\n",
        "    def __init__(self, X, y):\n",
        "        self.X = X\n",
        "        self.y = y\n",
        "\n",
        "    def __len__(self):\n",
        "        return len(self.X)\n",
        "\n",
        "    def __getitem__(self, idx):\n",
        "        return self.X[idx], self.y[idx]\n",
        "\n",
        "# Create DataLoader for training data\n",
        "train_dataset = CustomDataset(X_train, y_train)\n",
        "train_loader = DataLoader(train_dataset, batch_size=32, shuffle=True)\n",
        "\n",
        "# Create DataLoader for test data\n",
        "test_dataset = CustomDataset(X_test, y_test)\n",
        "test_loader = DataLoader(test_dataset, batch_size=32, shuffle=False)\n",
        "\n",
        "# Iterate through the training DataLoader\n",
        "for batch_idx, (x, y) in enumerate(train_loader):\n",
        "    print(f\"Batch {batch_idx}: X shape {x.shape}, Y shape {y.shape}\")\n",
        "    print(f\"Sample from Batch {batch_idx}: X[0] {x[0]}, Y[0] {y[0]}\")\n",
        "    if batch_idx >= 1:\n",
        "        break\n"
      ]
    },
    {
      "cell_type": "markdown",
      "id": "1fb6f08c-5e70-4b14-b62c-4686d9f7aace",
      "metadata": {
        "id": "1fb6f08c-5e70-4b14-b62c-4686d9f7aace"
      },
      "source": [
        "## Task 3\n",
        "In this task you will try to predict number of crime victims as a **real number**. Therefore the machine learning problem is a **regression** problem.\n",
        "\n",
        "* Define the proper loss function for this task\n",
        "* what should the size of the predicted output be?\n",
        "* explain your choice of architecture, including how many layers you will be using\n",
        "* define an optimizer for training this model, choose a proper learning rate\n",
        "* write a training loop that obtains a batch out of the  training data and calculates the forward and backward passes over the neural network. Call the optimizer to update the weights of the neural network.\n",
        "* write a for loop that continues the training over a number of epochs. At the end of each epoch, calculate the ``MSE`` error on the test data and print it.\n",
        "* is your model training well? Adjust the learning rate, hidden size of the network, and try different activation functions and number of layers to achieve the best accuracy and report it."
      ]
    },
    {
      "cell_type": "code",
      "source": [
        "import torch\n",
        "import torch.nn as nn\n",
        "import torch.optim as optim\n",
        "from torch.utils.data import DataLoader, TensorDataset\n",
        "import numpy as np\n",
        "from sklearn.model_selection import train_test_split\n",
        "\n",
        "# Define the dataset and dataloaders\n",
        "X = torch.tensor(df.drop('VictimCount', axis=1).values.astype(np.float32))\n",
        "y = torch.tensor(df['VictimCount'].values.astype(np.float32))\n",
        "X_train, X_test, y_train, y_test = train_test_split(X, y, test_size=0.3)\n",
        "\n",
        "train_dataset = TensorDataset(X_train, y_train)\n",
        "test_dataset = TensorDataset(X_test, y_test)\n",
        "\n",
        "batch_size = 40\n",
        "train_loader = DataLoader(dataset=train_dataset, batch_size=batch_size, shuffle=True)\n",
        "test_loader = DataLoader(dataset=test_dataset, batch_size=batch_size, shuffle=False)\n",
        "\n",
        "# Define a simple neural network for regression\n",
        "class RegressionModel(nn.Module):\n",
        "    def __init__(self, input_size):\n",
        "        super(RegressionModel, self).__init__()\n",
        "        self.fc1 = nn.Linear(input_size, 20)\n",
        "        self.fc2 = nn.Linear(20, 10)\n",
        "        self.fc3 = nn.Linear(10, 5)\n",
        "        self.fc4 = nn.Linear(5, 1)\n",
        "\n",
        "    def forward(self, x):\n",
        "        x = torch.relu(self.fc1(x))\n",
        "        x = torch.relu(self.fc2(x))\n",
        "        x = torch.relu(self.fc3(x))\n",
        "        x = self.fc4(x)\n",
        "        return x\n",
        "\n",
        "# Create an instance of the regression model\n",
        "input_size = X_train.shape[1]  # Adjust this based on the number of features\n",
        "model = RegressionModel(input_size)\n",
        "\n",
        "# Define the loss function and optimizer\n",
        "criterion = nn.MSELoss()\n",
        "optimizer = optim.Adam(model.parameters(), lr=0.000001, weight_decay=0.001)  # Adjust weight_decay as needed\n",
        "\n",
        "# Train the model\n",
        "num_epochs = 100\n",
        "for epoch in range(num_epochs):\n",
        "    model.train()\n",
        "    for inputs, targets in train_loader:\n",
        "        optimizer.zero_grad()\n",
        "        outputs = model(inputs)\n",
        "        loss = criterion(outputs, targets)\n",
        "        loss.backward()\n",
        "        optimizer.step()\n",
        "\n",
        "    model.eval()\n",
        "    total_loss = 0\n",
        "    with torch.no_grad():\n",
        "        for inputs, targets in test_loader:\n",
        "            outputs = model(inputs)\n",
        "            total_loss += criterion(outputs, targets).item()\n",
        "\n",
        "    avg_mse = total_loss / len(test_loader)\n",
        "    print(f'Epoch [{epoch + 1}], MSE Loss: {avg_mse:.6f}')"
      ],
      "metadata": {
        "colab": {
          "base_uri": "https://localhost:8080/"
        },
        "id": "TJRqd_bBXV-C",
        "outputId": "833836e2-906b-4062-a59a-31a44ff0e9d0"
      },
      "id": "TJRqd_bBXV-C",
      "execution_count": 13,
      "outputs": [
        {
          "output_type": "stream",
          "name": "stderr",
          "text": [
            "/usr/local/lib/python3.10/dist-packages/torch/nn/modules/loss.py:535: UserWarning: Using a target size (torch.Size([40])) that is different to the input size (torch.Size([40, 1])). This will likely lead to incorrect results due to broadcasting. Please ensure they have the same size.\n",
            "  return F.mse_loss(input, target, reduction=self.reduction)\n",
            "/usr/local/lib/python3.10/dist-packages/torch/nn/modules/loss.py:535: UserWarning: Using a target size (torch.Size([32])) that is different to the input size (torch.Size([32, 1])). This will likely lead to incorrect results due to broadcasting. Please ensure they have the same size.\n",
            "  return F.mse_loss(input, target, reduction=self.reduction)\n",
            "/usr/local/lib/python3.10/dist-packages/torch/nn/modules/loss.py:535: UserWarning: Using a target size (torch.Size([3])) that is different to the input size (torch.Size([3, 1])). This will likely lead to incorrect results due to broadcasting. Please ensure they have the same size.\n",
            "  return F.mse_loss(input, target, reduction=self.reduction)\n"
          ]
        },
        {
          "output_type": "stream",
          "name": "stdout",
          "text": [
            "Epoch [1], MSE Loss: 0.923799\n",
            "Epoch [2], MSE Loss: 0.923786\n",
            "Epoch [3], MSE Loss: 0.923772\n",
            "Epoch [4], MSE Loss: 0.923758\n",
            "Epoch [5], MSE Loss: 0.923745\n",
            "Epoch [6], MSE Loss: 0.923731\n",
            "Epoch [7], MSE Loss: 0.923717\n",
            "Epoch [8], MSE Loss: 0.923704\n",
            "Epoch [9], MSE Loss: 0.923690\n",
            "Epoch [10], MSE Loss: 0.923676\n",
            "Epoch [11], MSE Loss: 0.923662\n",
            "Epoch [12], MSE Loss: 0.923649\n",
            "Epoch [13], MSE Loss: 0.923635\n",
            "Epoch [14], MSE Loss: 0.923622\n",
            "Epoch [15], MSE Loss: 0.923608\n",
            "Epoch [16], MSE Loss: 0.923595\n",
            "Epoch [17], MSE Loss: 0.923581\n",
            "Epoch [18], MSE Loss: 0.923568\n",
            "Epoch [19], MSE Loss: 0.923555\n",
            "Epoch [20], MSE Loss: 0.923542\n",
            "Epoch [21], MSE Loss: 0.923528\n",
            "Epoch [22], MSE Loss: 0.923515\n",
            "Epoch [23], MSE Loss: 0.923502\n",
            "Epoch [24], MSE Loss: 0.923488\n",
            "Epoch [25], MSE Loss: 0.923475\n",
            "Epoch [26], MSE Loss: 0.923461\n",
            "Epoch [27], MSE Loss: 0.923448\n",
            "Epoch [28], MSE Loss: 0.923435\n",
            "Epoch [29], MSE Loss: 0.923421\n",
            "Epoch [30], MSE Loss: 0.923408\n",
            "Epoch [31], MSE Loss: 0.923395\n",
            "Epoch [32], MSE Loss: 0.923382\n",
            "Epoch [33], MSE Loss: 0.923368\n",
            "Epoch [34], MSE Loss: 0.923355\n",
            "Epoch [35], MSE Loss: 0.923341\n",
            "Epoch [36], MSE Loss: 0.923328\n",
            "Epoch [37], MSE Loss: 0.923315\n",
            "Epoch [38], MSE Loss: 0.923301\n",
            "Epoch [39], MSE Loss: 0.923288\n",
            "Epoch [40], MSE Loss: 0.923275\n",
            "Epoch [41], MSE Loss: 0.923261\n",
            "Epoch [42], MSE Loss: 0.923248\n",
            "Epoch [43], MSE Loss: 0.923235\n",
            "Epoch [44], MSE Loss: 0.923222\n",
            "Epoch [45], MSE Loss: 0.923208\n",
            "Epoch [46], MSE Loss: 0.923195\n",
            "Epoch [47], MSE Loss: 0.923182\n",
            "Epoch [48], MSE Loss: 0.923168\n",
            "Epoch [49], MSE Loss: 0.923155\n",
            "Epoch [50], MSE Loss: 0.923142\n",
            "Epoch [51], MSE Loss: 0.923129\n",
            "Epoch [52], MSE Loss: 0.923116\n",
            "Epoch [53], MSE Loss: 0.923102\n",
            "Epoch [54], MSE Loss: 0.923089\n",
            "Epoch [55], MSE Loss: 0.923076\n",
            "Epoch [56], MSE Loss: 0.923063\n",
            "Epoch [57], MSE Loss: 0.923050\n",
            "Epoch [58], MSE Loss: 0.923036\n",
            "Epoch [59], MSE Loss: 0.923024\n",
            "Epoch [60], MSE Loss: 0.923010\n",
            "Epoch [61], MSE Loss: 0.922997\n",
            "Epoch [62], MSE Loss: 0.922984\n",
            "Epoch [63], MSE Loss: 0.922971\n",
            "Epoch [64], MSE Loss: 0.922958\n",
            "Epoch [65], MSE Loss: 0.922945\n",
            "Epoch [66], MSE Loss: 0.922933\n",
            "Epoch [67], MSE Loss: 0.922920\n",
            "Epoch [68], MSE Loss: 0.922906\n",
            "Epoch [69], MSE Loss: 0.922893\n",
            "Epoch [70], MSE Loss: 0.922880\n",
            "Epoch [71], MSE Loss: 0.922867\n",
            "Epoch [72], MSE Loss: 0.922855\n",
            "Epoch [73], MSE Loss: 0.922842\n",
            "Epoch [74], MSE Loss: 0.922829\n",
            "Epoch [75], MSE Loss: 0.922817\n",
            "Epoch [76], MSE Loss: 0.922804\n",
            "Epoch [77], MSE Loss: 0.922791\n",
            "Epoch [78], MSE Loss: 0.922778\n",
            "Epoch [79], MSE Loss: 0.922765\n",
            "Epoch [80], MSE Loss: 0.922752\n",
            "Epoch [81], MSE Loss: 0.922740\n",
            "Epoch [82], MSE Loss: 0.922726\n",
            "Epoch [83], MSE Loss: 0.922714\n",
            "Epoch [84], MSE Loss: 0.922701\n",
            "Epoch [85], MSE Loss: 0.922688\n",
            "Epoch [86], MSE Loss: 0.922675\n",
            "Epoch [87], MSE Loss: 0.922663\n",
            "Epoch [88], MSE Loss: 0.922650\n",
            "Epoch [89], MSE Loss: 0.922637\n",
            "Epoch [90], MSE Loss: 0.922625\n",
            "Epoch [91], MSE Loss: 0.922613\n",
            "Epoch [92], MSE Loss: 0.922600\n",
            "Epoch [93], MSE Loss: 0.922587\n",
            "Epoch [94], MSE Loss: 0.922574\n",
            "Epoch [95], MSE Loss: 0.922561\n",
            "Epoch [96], MSE Loss: 0.922549\n",
            "Epoch [97], MSE Loss: 0.922536\n",
            "Epoch [98], MSE Loss: 0.922524\n",
            "Epoch [99], MSE Loss: 0.922511\n",
            "Epoch [100], MSE Loss: 0.922499\n"
          ]
        }
      ]
    },
    {
      "cell_type": "markdown",
      "source": [
        "For regression problems, the commonly used loss function is Mean Squared Error (MSE) because it measures the average squared difference between the predicted values and the actual values. You should use the MSE loss function."
      ],
      "metadata": {
        "id": "O4Ya7WHLc2Bg"
      },
      "id": "O4Ya7WHLc2Bg"
    },
    {
      "cell_type": "markdown",
      "source": [
        "The size of the predicted output should be 1 since you are predicting a single real number, which is the number of crime victims."
      ],
      "metadata": {
        "id": "1aJ62RlRc23p"
      },
      "id": "1aJ62RlRc23p"
    },
    {
      "cell_type": "markdown",
      "source": [
        "- The choice of architecture can vary, but for a basic regression task, a feedforward neural network should work. You can start with a simple architecture with a few hidden layers. The exact number of layers and units will depend on the complexity of your data.\n",
        "Here's an example architecture with 4 hidden layers:\n",
        "\n",
        "- Input Size: The number of input features (e.g., latitude, longitude, hour, day, area code, crime code).\n",
        "Hidden Layers: You can experiment with different hidden layer sizes, but for a start, you can use 3-4 hidden layers with a reasonable number of units (e.g., 20, 10, 5, 1).\n",
        "Activation Function: ReLU (Rectified Linear Unit) is commonly used as an activation function in hidden layers.\n",
        "Output Layer: The output layer should have 1 unit since you are predicting a single real number."
      ],
      "metadata": {
        "id": "Xsp57hyAc6BU"
      },
      "id": "Xsp57hyAc6BU"
    },
    {
      "cell_type": "markdown",
      "source": [
        "A commonly used optimizer for training neural networks is Adam. You can start with a small learning rate (e.g., 0.0001) and adjust it based on the training progress."
      ],
      "metadata": {
        "id": "7B6YYg1jdFXD"
      },
      "id": "7B6YYg1jdFXD"
    },
    {
      "cell_type": "markdown",
      "source": [
        "Write a training loop that iterates over your training data in batches. For each batch, perform forward and backward passes to update the neural network's weights."
      ],
      "metadata": {
        "id": "TYvTMxrmdIio"
      },
      "id": "TYvTMxrmdIio"
    },
    {
      "cell_type": "markdown",
      "source": [
        "After each epoch, calculate the MSE error on the test data and print it. This will help you monitor the model's performance during training."
      ],
      "metadata": {
        "id": "8s-FfJvgdLQm"
      },
      "id": "8s-FfJvgdLQm"
    },
    {
      "cell_type": "markdown",
      "source": [
        "- Monitor the training process. If the model isn't training well, you can adjust the learning rate, the size of the hidden layers, and experiment with different activation functions and the number of layers to achieve the best accuracy.\n",
        "\n",
        "- It's a good practice to use learning rate schedules or learning rate annealing to adjust the learning rate during training if needed."
      ],
      "metadata": {
        "id": "C1VgyeXVdab9"
      },
      "id": "C1VgyeXVdab9"
    },
    {
      "cell_type": "markdown",
      "id": "86e3fc70-c6ce-4589-9930-128951290e8d",
      "metadata": {
        "id": "86e3fc70-c6ce-4589-9930-128951290e8d"
      },
      "source": [
        "## Task 4\n",
        "\n",
        "In this task, you will try to predict the number of crime victims as a **class number**. Therefore the machine learning problem is a **classification** problem.\n",
        "\n",
        "* Repeat all the steps in task 3. Specifically, pay attention to the differences with regression.\n",
        "* How would you find the number of classes on the output data?\n",
        "* How is the architecture different?\n",
        "* How is the loss function different?\n",
        "* Calculate the Accuracy for test data as the number of correct classified outputs divided by the total number of test data in each epoch. Report it at the end of each epoch\n",
        "* Try a few variations of learning rate, hidden dimensions, layers, etc. What is the best accuracy that you can get?"
      ]
    },
    {
      "cell_type": "code",
      "execution_count": 14,
      "id": "7d929c52-af34-4081-92cd-3463a3fc4db1",
      "metadata": {
        "colab": {
          "base_uri": "https://localhost:8080/"
        },
        "id": "7d929c52-af34-4081-92cd-3463a3fc4db1",
        "outputId": "e48e8410-758b-4b47-e4b7-cd176976593b"
      },
      "outputs": [
        {
          "output_type": "stream",
          "name": "stdout",
          "text": [
            "Epoch [1], Loss: 2.3159, Accuracy: 1.20%\n",
            "Epoch [2], Loss: 2.1239, Accuracy: 2.41%\n",
            "Epoch [3], Loss: 2.0025, Accuracy: 8.43%\n",
            "Epoch [4], Loss: 1.9471, Accuracy: 12.05%\n",
            "Epoch [5], Loss: 1.8952, Accuracy: 14.46%\n",
            "Epoch [6], Loss: 1.8064, Accuracy: 14.46%\n",
            "Epoch [7], Loss: 1.7649, Accuracy: 21.69%\n",
            "Epoch [8], Loss: 1.6921, Accuracy: 26.51%\n",
            "Epoch [9], Loss: 1.6490, Accuracy: 30.12%\n",
            "Epoch [10], Loss: 1.5709, Accuracy: 30.12%\n",
            "Epoch [11], Loss: 1.5277, Accuracy: 31.33%\n",
            "Epoch [12], Loss: 1.4649, Accuracy: 31.33%\n",
            "Epoch [13], Loss: 1.3882, Accuracy: 32.53%\n",
            "Epoch [14], Loss: 1.3609, Accuracy: 39.76%\n",
            "Epoch [15], Loss: 1.3276, Accuracy: 37.35%\n",
            "Epoch [16], Loss: 1.2984, Accuracy: 40.96%\n",
            "Epoch [17], Loss: 1.2725, Accuracy: 42.17%\n",
            "Epoch [18], Loss: 1.3059, Accuracy: 45.78%\n",
            "Epoch [19], Loss: 1.2828, Accuracy: 44.58%\n",
            "Epoch [20], Loss: 1.2629, Accuracy: 44.58%\n",
            "Epoch [21], Loss: 1.2272, Accuracy: 44.58%\n",
            "Epoch [22], Loss: 1.2101, Accuracy: 46.99%\n",
            "Epoch [23], Loss: 1.2369, Accuracy: 53.01%\n",
            "Epoch [24], Loss: 1.1331, Accuracy: 53.01%\n",
            "Epoch [25], Loss: 1.1768, Accuracy: 51.81%\n",
            "Epoch [26], Loss: 1.1940, Accuracy: 51.81%\n",
            "Epoch [27], Loss: 1.2018, Accuracy: 53.01%\n",
            "Epoch [28], Loss: 1.1920, Accuracy: 51.81%\n",
            "Epoch [29], Loss: 1.1751, Accuracy: 49.40%\n",
            "Epoch [30], Loss: 1.1595, Accuracy: 49.40%\n",
            "Epoch [31], Loss: 1.1702, Accuracy: 49.40%\n",
            "Epoch [32], Loss: 1.1346, Accuracy: 48.19%\n",
            "Epoch [33], Loss: 1.1545, Accuracy: 49.40%\n",
            "Epoch [34], Loss: 1.1512, Accuracy: 48.19%\n",
            "Epoch [35], Loss: 1.1493, Accuracy: 50.60%\n",
            "Epoch [36], Loss: 1.1323, Accuracy: 53.01%\n",
            "Epoch [37], Loss: 1.1511, Accuracy: 53.01%\n",
            "Epoch [38], Loss: 1.1250, Accuracy: 53.01%\n",
            "Epoch [39], Loss: 1.1420, Accuracy: 53.01%\n",
            "Epoch [40], Loss: 1.1239, Accuracy: 53.01%\n",
            "Epoch [41], Loss: 1.1414, Accuracy: 53.01%\n",
            "Epoch [42], Loss: 1.1074, Accuracy: 53.01%\n",
            "Epoch [43], Loss: 1.1231, Accuracy: 53.01%\n",
            "Epoch [44], Loss: 1.1273, Accuracy: 53.01%\n",
            "Epoch [45], Loss: 1.1168, Accuracy: 53.01%\n",
            "Epoch [46], Loss: 1.0997, Accuracy: 53.01%\n",
            "Epoch [47], Loss: 1.1222, Accuracy: 53.01%\n",
            "Epoch [48], Loss: 1.0775, Accuracy: 53.01%\n",
            "Epoch [49], Loss: 1.1146, Accuracy: 53.01%\n",
            "Epoch [50], Loss: 1.0856, Accuracy: 53.01%\n",
            "Epoch [51], Loss: 1.0875, Accuracy: 53.01%\n",
            "Epoch [52], Loss: 1.1233, Accuracy: 53.01%\n",
            "Epoch [53], Loss: 1.1148, Accuracy: 53.01%\n",
            "Epoch [54], Loss: 1.0845, Accuracy: 53.01%\n",
            "Epoch [55], Loss: 1.1014, Accuracy: 53.01%\n",
            "Epoch [56], Loss: 1.0985, Accuracy: 53.01%\n",
            "Epoch [57], Loss: 1.0833, Accuracy: 53.01%\n",
            "Epoch [58], Loss: 1.0915, Accuracy: 53.01%\n",
            "Epoch [59], Loss: 1.0941, Accuracy: 53.01%\n",
            "Epoch [60], Loss: 1.0882, Accuracy: 53.01%\n",
            "Epoch [61], Loss: 1.0616, Accuracy: 53.01%\n",
            "Epoch [62], Loss: 1.0949, Accuracy: 53.01%\n",
            "Epoch [63], Loss: 1.1045, Accuracy: 53.01%\n",
            "Epoch [64], Loss: 1.0902, Accuracy: 53.01%\n",
            "Epoch [65], Loss: 1.1075, Accuracy: 53.01%\n",
            "Epoch [66], Loss: 1.0683, Accuracy: 53.01%\n",
            "Epoch [67], Loss: 1.1017, Accuracy: 53.01%\n",
            "Epoch [68], Loss: 1.0493, Accuracy: 53.01%\n",
            "Epoch [69], Loss: 1.0376, Accuracy: 53.01%\n",
            "Epoch [70], Loss: 1.0487, Accuracy: 53.01%\n",
            "Epoch [71], Loss: 1.0917, Accuracy: 53.01%\n",
            "Epoch [72], Loss: 1.0888, Accuracy: 53.01%\n",
            "Epoch [73], Loss: 1.0890, Accuracy: 53.01%\n",
            "Epoch [74], Loss: 1.0950, Accuracy: 53.01%\n",
            "Epoch [75], Loss: 1.0672, Accuracy: 53.01%\n",
            "Epoch [76], Loss: 1.0531, Accuracy: 53.01%\n",
            "Epoch [77], Loss: 1.0791, Accuracy: 53.01%\n",
            "Epoch [78], Loss: 1.0818, Accuracy: 53.01%\n",
            "Epoch [79], Loss: 1.0682, Accuracy: 53.01%\n",
            "Epoch [80], Loss: 1.0655, Accuracy: 53.01%\n",
            "Epoch [81], Loss: 1.0696, Accuracy: 53.01%\n",
            "Epoch [82], Loss: 1.0381, Accuracy: 53.01%\n",
            "Epoch [83], Loss: 1.0647, Accuracy: 53.01%\n",
            "Epoch [84], Loss: 1.0797, Accuracy: 53.01%\n",
            "Epoch [85], Loss: 1.0719, Accuracy: 53.01%\n",
            "Epoch [86], Loss: 1.0848, Accuracy: 53.01%\n",
            "Epoch [87], Loss: 1.0711, Accuracy: 53.01%\n",
            "Epoch [88], Loss: 1.0464, Accuracy: 53.01%\n",
            "Epoch [89], Loss: 1.0686, Accuracy: 53.01%\n",
            "Epoch [90], Loss: 1.0575, Accuracy: 53.01%\n",
            "Epoch [91], Loss: 1.0595, Accuracy: 53.01%\n",
            "Epoch [92], Loss: 1.0551, Accuracy: 53.01%\n",
            "Epoch [93], Loss: 1.0478, Accuracy: 53.01%\n",
            "Epoch [94], Loss: 1.0664, Accuracy: 53.01%\n",
            "Epoch [95], Loss: 1.0635, Accuracy: 53.01%\n",
            "Epoch [96], Loss: 1.0659, Accuracy: 53.01%\n",
            "Epoch [97], Loss: 1.0466, Accuracy: 51.81%\n",
            "Epoch [98], Loss: 1.0693, Accuracy: 54.22%\n",
            "Epoch [99], Loss: 1.0556, Accuracy: 53.01%\n",
            "Epoch [100], Loss: 1.0739, Accuracy: 51.81%\n",
            "Best Test Accuracy: 54.22%\n"
          ]
        }
      ],
      "source": [
        "import torch\n",
        "import torch.nn as nn\n",
        "import torch.optim as optim\n",
        "from torch.utils.data import DataLoader, TensorDataset\n",
        "import numpy as np\n",
        "from sklearn.model_selection import train_test_split\n",
        "\n",
        "# Define your input and output data\n",
        "X = torch.tensor(df.drop('VictimCount', axis=1).values.astype(np.float32))\n",
        "y = torch.tensor(df['VictimCount'].values)\n",
        "\n",
        "# Assuming 'VictimCount' is a class label (e.g., 0, 1, 2, 3, 4, 5, 6)\n",
        "num_classes = len(torch.unique(y))\n",
        "\n",
        "# Convert class labels to Long type for CrossEntropyLoss\n",
        "y = y.long()\n",
        "\n",
        "# Split the data into training and test sets\n",
        "X_train, X_test, y_train, y_test = train_test_split(X, y, test_size=0.3)\n",
        "\n",
        "# Define a custom classification model with additional layers and dropout for regularization\n",
        "class ClassificationModel(nn.Module):\n",
        "    def __init__(self, input_size, num_classes):\n",
        "        super(ClassificationModel, self).__init__()\n",
        "        self.fc1 = nn.Linear(input_size, 64)\n",
        "        self.fc2 = nn.Linear(64, 32)\n",
        "        self.fc3 = nn.Linear(32, 16)\n",
        "        self.fc4 = nn.Linear(16, num_classes)\n",
        "        self.relu = nn.ReLU()\n",
        "        self.dropout = nn.Dropout(0.3)  # Dropout for regularization\n",
        "\n",
        "    def forward(self, x):\n",
        "        x = self.relu(self.fc1(x))\n",
        "        x = self.dropout(x)\n",
        "        x = self.relu(self.fc2(x))\n",
        "        x = self.dropout(x)\n",
        "        x = self.relu(self.fc3(x))\n",
        "        x = self.fc4(x)\n",
        "        return x\n",
        "\n",
        "input_size = 6\n",
        "model = ClassificationModel(input_size, num_classes)\n",
        "\n",
        "# Define the loss function and optimizer\n",
        "criterion = nn.CrossEntropyLoss()\n",
        "optimizer = optim.Adam(model.parameters(), lr=0.001)\n",
        "\n",
        "# Create DataLoaders for training and testing\n",
        "train_dataset = TensorDataset(X_train, y_train)\n",
        "test_dataset = TensorDataset(X_test, y_test)\n",
        "\n",
        "train_loader = DataLoader(train_dataset, batch_size=64, shuffle=True)  # Increased batch size for better convergence\n",
        "test_loader = DataLoader(test_dataset, batch_size=64, shuffle=False)\n",
        "\n",
        "# Training loop\n",
        "num_epochs = 100\n",
        "best_accuracy = 0.0  # Track the best accuracy during training\n",
        "\n",
        "for epoch in range(num_epochs):\n",
        "    model.train()\n",
        "    total_loss = 0\n",
        "    for batch_X, batch_y in train_loader:\n",
        "        optimizer.zero_grad()\n",
        "        outputs = model(batch_X)\n",
        "        loss = criterion(outputs, batch_y)\n",
        "        loss.backward()\n",
        "        optimizer.step()\n",
        "        total_loss += loss.item()\n",
        "\n",
        "    model.eval()\n",
        "    correct = 0\n",
        "    total = 0\n",
        "    with torch.no_grad():\n",
        "        for inputs, labels in test_loader:\n",
        "            outputs = model(inputs)\n",
        "            _, predicted = torch.max(outputs, 1)\n",
        "            total += labels.size(0)\n",
        "            correct += (predicted == labels).sum().item()\n",
        "\n",
        "    accuracy = 100 * correct / total\n",
        "\n",
        "    if accuracy > best_accuracy:\n",
        "        best_accuracy = accuracy\n",
        "        torch.save(model.state_dict(), 'best_model.pth')  # Save the best model\n",
        "\n",
        "    print(f'Epoch [{epoch + 1}], Loss: {total_loss / len(train_loader):.4f}, Accuracy: {accuracy:.2f}%')\n",
        "\n",
        "print(f'Best Test Accuracy: {best_accuracy:.2f}%')\n"
      ]
    },
    {
      "cell_type": "markdown",
      "source": [
        "To find the number of classes for the output data, you can look at the range of the target variable. In this case, it's the possible values of the number of crime victims (e.g., 0, 1, 2, 3, 4, 5, 6). The number of classes is the number of distinct values in the target variable, which is 7 in this case."
      ],
      "metadata": {
        "id": "g9YQLjukeVlT"
      },
      "id": "g9YQLjukeVlT"
    },
    {
      "cell_type": "markdown",
      "source": [
        "- The architecture will be different. For classification, you will typically use a neural network with a final softmax layer to predict class probabilities.\n",
        "- You can experiment with the number of hidden layers, units in each layer, and activation functions.\n",
        "- The output layer should have as many units as the number of classes (e.g., 7 for predicting 0 to 6 victims)."
      ],
      "metadata": {
        "id": "NFmEpzd-eWnr"
      },
      "id": "NFmEpzd-eWnr"
    },
    {
      "cell_type": "markdown",
      "source": [
        "Calculate the accuracy for the test data at the end of each epoch. This involves comparing the predicted class labels to the true class labels for the test data."
      ],
      "metadata": {
        "id": "olQgxaoxebvQ"
      },
      "id": "olQgxaoxebvQ"
    },
    {
      "cell_type": "markdown",
      "source": [
        "Calculate the accuracy for the test data at the end of each epoch. This involves comparing the predicted class labels to the true class labels for the test data."
      ],
      "metadata": {
        "id": "ssGA5i0mefl2"
      },
      "id": "ssGA5i0mefl2"
    },
    {
      "cell_type": "markdown",
      "source": [
        "- To achieve the best accuracy, you can experiment with different hyperparameters, including learning rate, the size of hidden dimensions, the number of layers, and activation functions.\n",
        "- You can perform a hyperparameter search to find the best combination that maximizes accuracy on the test data.\n",
        "- You may also use learning rate schedules or learning rate annealing to fine-tune the learning rate during training."
      ],
      "metadata": {
        "id": "KKYkvEHRemEN"
      },
      "id": "KKYkvEHRemEN"
    },
    {
      "cell_type": "markdown",
      "id": "84d2a304-6197-4cd9-b31e-745f7862f213",
      "metadata": {
        "id": "84d2a304-6197-4cd9-b31e-745f7862f213"
      },
      "source": [
        "## Task 5"
      ]
    },
    {
      "cell_type": "markdown",
      "id": "d6e4ef16-d828-45e5-bd58-1c49fcfecf52",
      "metadata": {
        "id": "d6e4ef16-d828-45e5-bd58-1c49fcfecf52"
      },
      "source": [
        "### Reflect on your results\n",
        "\n",
        "* Write a paragraph about your experience with tasks 3 and 4. How do you compare the results? Which one worked better? Why?\n",
        "* Write a piece of code that finds an example of a  miss-classification. Calculate the probabilities for the output classes and plot them in a bar chart. Also, indicate what is the correct class label."
      ]
    },
    {
      "cell_type": "code",
      "source": [
        "import matplotlib.pyplot as plt\n",
        "\n",
        "output = model(X_test)\n",
        "_, pred = torch.max(output, 1)\n",
        "\n",
        "# Finding the misclassified sample.\n",
        "misclassified_index = (pred != y_test).nonzero(as_tuple=True)[0][0]\n",
        "\n",
        "# Invert the output probabilities for the misclassified sample\n",
        "inverted_probs = 1 - output[misclassified_index].detach().numpy()\n",
        "\n",
        "# Plotting the bar graph with inverted probabilities\n",
        "ax = plt.subplot(121)\n",
        "ax.bar(range(7), inverted_probs)\n",
        "ax.set_xticks(range(7))\n",
        "plt.title('Target Label = {}'.format(y_test[misclassified_index].item()))\n",
        "\n",
        "plt.show()\n"
      ],
      "metadata": {
        "colab": {
          "base_uri": "https://localhost:8080/",
          "height": 452
        },
        "id": "KDcX2Yd9YMn7",
        "outputId": "4ef93479-c3d6-4c0a-8e2d-3d964687d7e9"
      },
      "id": "KDcX2Yd9YMn7",
      "execution_count": null,
      "outputs": [
        {
          "output_type": "display_data",
          "data": {
            "text/plain": [
              "<Figure size 640x480 with 1 Axes>"
            ],
            "image/png": "[encoded data removed]"
          },
          "metadata": {}
        }
      ]
    },
    {
      "cell_type": "markdown",
      "source": [
        "- In tasks 3 and 4, I addressed two distinct machine learning problems: regression and classification, each aimed at predicting the number of crime victims. Task 3 focused on regression, where the goal was to predict a real number representing the count of victims, and Task 4 tackled classification, where the aim was to classify the number of victims into discrete categories. In terms of results, the classification task (Task 4) yielded better performance for this specific problem. This is likely because classifying into predefined categories provides a clearer understanding of the different victim count groups and their relationships with the input features. The classification model effectively distinguishes between these categories and generates more interpretable results."
      ],
      "metadata": {
        "id": "BIkl2yZIfFs2"
      },
      "id": "BIkl2yZIfFs2"
    },
    {
      "cell_type": "markdown",
      "id": "5b000b0b-fa37-4f8d-8ec7-0a1e6e749424",
      "metadata": {
        "id": "5b000b0b-fa37-4f8d-8ec7-0a1e6e749424"
      },
      "source": [
        "## Task 6: Exploring the patterns in raw data\n",
        "\n",
        "* Plot the crime incidents as a `scatter` plot using the corrdinates. Use the color property of each datapoint to indicate the day of the week. Is there a pattern in the plot?\n",
        "* Now make a new scatter plot and use the color property of each datapoint to indicate the number of persons involved in the incident. Is there a pattern here?\n",
        "* use numpy (or pandas if you like) to sort the number of crimes reported by the day of the week. What days are most frequent?\n"
      ]
    },
    {
      "cell_type": "code",
      "execution_count": null,
      "id": "5b396aaf-5d1a-49cd-ae1d-b63af7e561f5",
      "metadata": {
        "colab": {
          "base_uri": "https://localhost:8080/",
          "height": 1000
        },
        "id": "5b396aaf-5d1a-49cd-ae1d-b63af7e561f5",
        "outputId": "031b9664-d169-40f2-ab95-0b7c8d0f6f80"
      },
      "outputs": [
        {
          "output_type": "display_data",
          "data": {
            "text/plain": [
              "<Figure size 1000x600 with 2 Axes>"
            ],
            "image/png": "[encoded data removed]"
          },
          "metadata": {}
        },
        {
          "output_type": "display_data",
          "data": {
            "text/plain": [
              "<Figure size 1000x600 with 2 Axes>"
            ],
            "image/png": "[encoded data removed]"
          },
          "metadata": {}
        },
        {
          "output_type": "stream",
          "name": "stdout",
          "text": [
            "\n",
            "Reported crime based on the day of the week:\n",
            "4    51\n",
            "3    44\n",
            "5    43\n",
            "0    40\n",
            "1    37\n",
            "2    32\n",
            "6    28\n",
            "Name: DayOfWeek, dtype: int64\n",
            "Most frequent day(s):\n",
            "4\n"
          ]
        }
      ],
      "source": [
        "import numpy as np\n",
        "import matplotlib.pyplot as plt\n",
        "\n",
        "# Scatter plot by coordinates, color by day of the week\n",
        "plt.figure(figsize=(10, 6))\n",
        "scatter = plt.scatter(df['X'], df['Y'], c=df['DayOfWeek'], cmap='viridis')\n",
        "plt.colorbar(scatter, label='Day of the Week')\n",
        "plt.title('Crime Incidents by Coordinates (Color by Day of the Week)')\n",
        "plt.xlabel('Longitude')\n",
        "plt.ylabel('Latitude')\n",
        "plt.show()\n",
        "# No pattern found in the scatter plot.\n",
        "\n",
        "# Scatter plot by coordinates, color by number of persons involved\n",
        "plt.figure(figsize=(10, 6))\n",
        "scatter = plt.scatter(df['X'], df['Y'], c=df['VictimCount'], cmap='viridis')\n",
        "plt.colorbar(scatter, label='Number of Persons Involved')\n",
        "plt.title('Crime Incidents by Coordinates (Color by Number of Persons Involved)')\n",
        "plt.xlabel('Longitude')\n",
        "plt.ylabel('Latitude')\n",
        "plt.show()\n",
        "print()\n",
        "# No pattern found in the scatter plot.\n",
        "\n",
        "# Sort number of crimes reported by day of the week\n",
        "crimes_by_day = df['DayOfWeek'].value_counts()\n",
        "print(\"Reported crime based on the day of the week:\")\n",
        "print(crimes_by_day)\n",
        "\n",
        "# Get the most frequent days\n",
        "most_frequent_days = crimes_by_day.idxmax()\n",
        "print(\"Most frequent day(s):\")\n",
        "print(most_frequent_days)\n"
      ]
    }
  ],
  "metadata": {
    "kernelspec": {
      "display_name": "Python 3 (ipykernel)",
      "language": "python",
      "name": "python3"
    },
    "language_info": {
      "codemirror_mode": {
        "name": "ipython",
        "version": 3
      },
      "file_extension": ".py",
      "mimetype": "text/x-python",
      "name": "python",
      "nbconvert_exporter": "python",
      "pygments_lexer": "ipython3",
      "version": "3.11.5"
    },
    "colab": {
      "provenance": []
    }
  },
  "nbformat": 4,
  "nbformat_minor": 5
}